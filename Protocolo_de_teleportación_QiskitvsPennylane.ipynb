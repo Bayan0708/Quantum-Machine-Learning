{
  "nbformat": 4,
  "nbformat_minor": 0,
  "metadata": {
    "colab": {
      "provenance": []
    },
    "kernelspec": {
      "name": "python3",
      "display_name": "Python 3"
    },
    "language_info": {
      "name": "python"
    }
  },
  "cells": [
    {
      "cell_type": "markdown",
      "source": [
        "# **Protocolo de teleportación** (Qiskit vs Pennylane)\n",
        "*Universidad Nacional Autónoma de México*\n",
        "### Creado por: **Sebastián González Juárez**"
      ],
      "metadata": {
        "id": "QYBnR_qVGF3M"
      }
    },
    {
      "cell_type": "code",
      "source": [
        "!pip install pennylane --quiet\n",
        "!pip install qiskit --quiet"
      ],
      "metadata": {
        "id": "fbm12EvVKFKQ"
      },
      "execution_count": 1,
      "outputs": []
    },
    {
      "cell_type": "code",
      "execution_count": 2,
      "metadata": {
        "id": "zql8JJcOFz7N"
      },
      "outputs": [],
      "source": [
        "import numpy as np\n",
        "from qiskit import QuantumCircuit, ClassicalRegister, QuantumRegister\n",
        "from qiskit.quantum_info import Statevector\n",
        "import pennylane as qml"
      ]
    },
    {
      "cell_type": "markdown",
      "source": [
        "## **Qiskit.**"
      ],
      "metadata": {
        "id": "LUo-ejOOW8Op"
      }
    },
    {
      "cell_type": "code",
      "source": [
        "def print_sv(label, sv):\n",
        "    print(\"\\n\" + \"=\"*60)\n",
        "    print(label)\n",
        "    print(\"=\"*60)\n",
        "    amps = np.asarray(sv, dtype=complex).ravel()\n",
        "    basis = [f\"{i:03b}\" for i in range(8)]  # ¡Esto es |q2 q1 q0>!\n",
        "    for b, a in zip(basis, amps):\n",
        "        if abs(a) > 1e-12:\n",
        "            print(f\"|{b}>  (|q2 q1 q0>) : {a.real:+.6f}{a.imag:+.6f}j\")"
      ],
      "metadata": {
        "id": "d3FWoUQTdxXX"
      },
      "execution_count": 6,
      "outputs": []
    },
    {
      "cell_type": "code",
      "source": [
        "# Paso 0: preparar |+> en q0 y EPR en (q1,q2)\n",
        "prep = QuantumCircuit(3)\n",
        "prep.h(0)\n",
        "prep.h(1); prep.cx(1, 2)\n",
        "sv0 = Statevector.from_instruction(prep)\n",
        "print(prep.draw(\"text\"))\n",
        "print_sv(\"Estado |Psi_0>\", sv0)"
      ],
      "metadata": {
        "colab": {
          "base_uri": "https://localhost:8080/"
        },
        "id": "tYAJSHHId5T2",
        "outputId": "42cfcdca-4b23-4214-ebdd-5b4dbe6593d8"
      },
      "execution_count": 7,
      "outputs": [
        {
          "output_type": "stream",
          "name": "stdout",
          "text": [
            "     ┌───┐     \n",
            "q_0: ┤ H ├─────\n",
            "     ├───┤     \n",
            "q_1: ┤ H ├──■──\n",
            "     └───┘┌─┴─┐\n",
            "q_2: ─────┤ X ├\n",
            "          └───┘\n",
            "\n",
            "============================================================\n",
            "Estado |Psi_0>\n",
            "============================================================\n",
            "|000>  (|q2 q1 q0>) : +0.500000+0.000000j\n",
            "|001>  (|q2 q1 q0>) : +0.500000+0.000000j\n",
            "|110>  (|q2 q1 q0>) : +0.500000+0.000000j\n",
            "|111>  (|q2 q1 q0>) : +0.500000+0.000000j\n"
          ]
        }
      ]
    },
    {
      "cell_type": "code",
      "source": [
        "# Paso 1: CNOT(q0->q1)\n",
        "c1 = prep.copy()\n",
        "c1.cx(0, 1)\n",
        "sv1 = Statevector.from_instruction(c1)\n",
        "print(c1.draw(\"text\"))\n",
        "print_sv(\"Estado |Psi_1> (tras CNOT q0->q1)\", sv1)"
      ],
      "metadata": {
        "colab": {
          "base_uri": "https://localhost:8080/"
        },
        "id": "UVQ5wcVDd6yv",
        "outputId": "8a097e44-61f3-442e-ec21-ebd930734c87"
      },
      "execution_count": 8,
      "outputs": [
        {
          "output_type": "stream",
          "name": "stdout",
          "text": [
            "     ┌───┐          \n",
            "q_0: ┤ H ├───────■──\n",
            "     ├───┤     ┌─┴─┐\n",
            "q_1: ┤ H ├──■──┤ X ├\n",
            "     └───┘┌─┴─┐└───┘\n",
            "q_2: ─────┤ X ├─────\n",
            "          └───┘     \n",
            "\n",
            "============================================================\n",
            "Estado |Psi_1> (tras CNOT q0->q1)\n",
            "============================================================\n",
            "|000>  (|q2 q1 q0>) : +0.500000+0.000000j\n",
            "|011>  (|q2 q1 q0>) : +0.500000+0.000000j\n",
            "|101>  (|q2 q1 q0>) : +0.500000+0.000000j\n",
            "|110>  (|q2 q1 q0>) : +0.500000+0.000000j\n"
          ]
        }
      ]
    },
    {
      "cell_type": "code",
      "source": [
        "# Paso 2: H en q0\n",
        "c2 = c1.copy()\n",
        "c2.h(0)\n",
        "sv2 = Statevector.from_instruction(c2)\n",
        "print(c2.draw(\"text\"))\n",
        "print_sv(\"Estado |Psi_2> (tras H en q0)\", sv2)"
      ],
      "metadata": {
        "colab": {
          "base_uri": "https://localhost:8080/"
        },
        "id": "5d7EBfUhd8zW",
        "outputId": "b0b98a26-c981-4989-ae87-28fe00b7203f"
      },
      "execution_count": 9,
      "outputs": [
        {
          "output_type": "stream",
          "name": "stdout",
          "text": [
            "     ┌───┐          ┌───┐\n",
            "q_0: ┤ H ├───────■──┤ H ├\n",
            "     ├───┤     ┌─┴─┐└───┘\n",
            "q_1: ┤ H ├──■──┤ X ├─────\n",
            "     └───┘┌─┴─┐└───┘     \n",
            "q_2: ─────┤ X ├──────────\n",
            "          └───┘          \n",
            "\n",
            "============================================================\n",
            "Estado |Psi_2> (tras H en q0)\n",
            "============================================================\n",
            "|000>  (|q2 q1 q0>) : +0.353553+0.000000j\n",
            "|001>  (|q2 q1 q0>) : +0.353553+0.000000j\n",
            "|010>  (|q2 q1 q0>) : +0.353553+0.000000j\n",
            "|011>  (|q2 q1 q0>) : -0.353553+0.000000j\n",
            "|100>  (|q2 q1 q0>) : +0.353553+0.000000j\n",
            "|101>  (|q2 q1 q0>) : -0.353553+0.000000j\n",
            "|110>  (|q2 q1 q0>) : +0.353553+0.000000j\n",
            "|111>  (|q2 q1 q0>) : +0.353553+0.000000j\n"
          ]
        }
      ]
    },
    {
      "cell_type": "code",
      "source": [
        "# --- Post-selección (q0,q1)=01 y Bob pre/post corrección ---\n",
        "# Qiskit: reshape como (q2,q1,q0); para (q0,q1)=01 -> índices [:, 1, 0]\n",
        "T_q2q1q0 = np.asarray(sv2, dtype=complex).reshape(2, 2, 2)\n",
        "bob_unnorm = T_q2q1q0[:, 1, 0]                 # vector sobre q2\n",
        "p01 = float(np.vdot(bob_unnorm, bob_unnorm).real)\n",
        "bob_pre = bob_unnorm / np.sqrt(p01)\n",
        "print(\"\\n--- Post-selección (Alice=01) ---\")\n",
        "print(\"p(01) =\", p01)\n",
        "print(\"Bob PRE-corrección (vector):\", bob_pre)"
      ],
      "metadata": {
        "colab": {
          "base_uri": "https://localhost:8080/"
        },
        "id": "dA8PuONdd_Am",
        "outputId": "9e1ffbfd-acde-40ed-9e31-9599cc1af160"
      },
      "execution_count": 10,
      "outputs": [
        {
          "output_type": "stream",
          "name": "stdout",
          "text": [
            "\n",
            "--- Post-selección (Alice=01) ---\n",
            "p(01) = 0.2499999999999999\n",
            "Bob PRE-corrección (vector): [0.70710678+0.j 0.70710678+0.j]\n"
          ]
        }
      ]
    },
    {
      "cell_type": "code",
      "source": [
        "# Corrección para 01: aplicar X a Bob\n",
        "X = np.array([[0,1],[1,0]], dtype=complex)\n",
        "bob_post = X @ bob_pre\n",
        "print(\"Bob POST-corrección (aplicando X):\", bob_post)"
      ],
      "metadata": {
        "colab": {
          "base_uri": "https://localhost:8080/"
        },
        "id": "_EHQw90ZeBvv",
        "outputId": "252ccbab-390d-4ea5-86c1-2fc8576f058d"
      },
      "execution_count": 11,
      "outputs": [
        {
          "output_type": "stream",
          "name": "stdout",
          "text": [
            "Bob POST-corrección (aplicando X): [0.70710678+0.j 0.70710678+0.j]\n"
          ]
        }
      ]
    },
    {
      "cell_type": "code",
      "source": [
        "# --- Circuito completo con medidas y condicionales (moderno: if_test) ---\n",
        "qc = QuantumCircuit(3, 3)\n",
        "qc.h(0)\n",
        "qc.h(1); qc.cx(1, 2)\n",
        "qc.cx(0, 1); qc.h(0)\n",
        "qc.measure(0, 0); qc.measure(1, 1)\n",
        "with qc.if_test((0, 1)):   # si c0==1 -> Z\n",
        "    qc.z(2)\n",
        "with qc.if_test((1, 1)):   # si c1==1 -> X\n",
        "    qc.x(2)\n",
        "qc.measure(2, 2)\n",
        "print(\"\\n--- Circuito completo con medidas y correcciones ---\")\n",
        "print(qc.draw(\"text\"))"
      ],
      "metadata": {
        "colab": {
          "base_uri": "https://localhost:8080/"
        },
        "id": "EbDloKdPeDom",
        "outputId": "ece26fd1-059a-4eee-f728-276d25a91ae4"
      },
      "execution_count": 12,
      "outputs": [
        {
          "output_type": "stream",
          "name": "stdout",
          "text": [
            "\n",
            "--- Circuito completo con medidas y correcciones ---\n",
            "     ┌───┐          ┌───┐┌─┐                                                   »\n",
            "q_0: ┤ H ├───────■──┤ H ├┤M├───────────────────────────────────────────────────»\n",
            "     ├───┤     ┌─┴─┐└┬─┬┘└╥┘                                                   »\n",
            "q_1: ┤ H ├──■──┤ X ├─┤M├──╫────────────────────────────────────────────────────»\n",
            "     └───┘┌─┴─┐└───┘ └╥┘  ║   ┌──────  ┌───┐ ───────┐   ┌──────  ┌───┐ ───────┐»\n",
            "q_2: ─────┤ X ├───────╫───╫───┤ If-0  ─┤ Z ├  End-0 ├───┤ If-0  ─┤ X ├  End-0 ├»\n",
            "          └───┘       ║   ║   └──╥───  └───┘ ───────┘   └──╥───  └───┘ ───────┘»\n",
            "                      ║   ║ ┌────╨────┐               ┌────╨────┐              »\n",
            "c: 3/═════════════════╩═══╩═╡ c_0=0x1 ╞═══════════════╡ c_1=0x1 ╞══════════════»\n",
            "                      1   0 └─────────┘               └─────────┘              »\n",
            "«         \n",
            "«q_0: ────\n",
            "«         \n",
            "«q_1: ────\n",
            "«      ┌─┐\n",
            "«q_2: ─┤M├\n",
            "«      └╥┘\n",
            "«c: 3/══╩═\n",
            "«       2 \n"
          ]
        }
      ]
    },
    {
      "cell_type": "markdown",
      "source": [
        "## **PennyLane**"
      ],
      "metadata": {
        "id": "1jCJrokfeG3d"
      }
    },
    {
      "cell_type": "code",
      "source": [
        "def print_sv(label, st):\n",
        "    print(\"\\n\" + \"=\"*60)\n",
        "    print(label, \"(base |q0 q1 q2>)\")\n",
        "    print(\"=\"*60)\n",
        "    amps = np.asarray(st, dtype=complex).ravel()\n",
        "    basis = [f\"{i:03b}\" for i in range(8)]  # aquí es |q0 q1 q2> (orden de wires)\n",
        "    for b, a in zip(basis, amps):\n",
        "        if abs(a) > 1e-12:\n",
        "            print(f\"|{b}> : {a.real:+.6f}{a.imag:+.6f}j\")"
      ],
      "metadata": {
        "id": "iYnZwr2zeHby"
      },
      "execution_count": 13,
      "outputs": []
    },
    {
      "cell_type": "code",
      "source": [
        "dev = qml.device(\"default.qubit\", wires=3, shots=None)"
      ],
      "metadata": {
        "id": "SET9EuhZeN-V"
      },
      "execution_count": 14,
      "outputs": []
    },
    {
      "cell_type": "code",
      "source": [
        "def prep():\n",
        "    qml.Hadamard(0)        # |+> en q0\n",
        "    qml.Hadamard(1); qml.CNOT([1,2])  # EPR (q1,q2)\n",
        "\n",
        "def step1():\n",
        "    prep()\n",
        "    qml.CNOT([0,1])\n",
        "\n",
        "def step2():\n",
        "    step1()\n",
        "    qml.Hadamard(0)"
      ],
      "metadata": {
        "id": "K2xrinTWeOQA"
      },
      "execution_count": 15,
      "outputs": []
    },
    {
      "cell_type": "code",
      "source": [
        "print(\"\\n--- Circuitos ---\")\n",
        "print(\"Paso 0:\\n\", qml.draw(prep)())\n",
        "print(\"\\nPaso 1:\\n\", qml.draw(step1)())\n",
        "print(\"\\nPaso 2:\\n\", qml.draw(step2)())"
      ],
      "metadata": {
        "colab": {
          "base_uri": "https://localhost:8080/"
        },
        "id": "I6j4lcmEeQjj",
        "outputId": "f8b04029-a5e7-4627-eeee-fdc978185721"
      },
      "execution_count": 16,
      "outputs": [
        {
          "output_type": "stream",
          "name": "stdout",
          "text": [
            "\n",
            "--- Circuitos ---\n",
            "Paso 0:\n",
            " 0: ──H────┤  \n",
            "1: ──H─╭●─┤  \n",
            "2: ────╰X─┤  \n",
            "\n",
            "Paso 1:\n",
            " 0: ──H────╭●─┤  \n",
            "1: ──H─╭●─╰X─┤  \n",
            "2: ────╰X────┤  \n",
            "\n",
            "Paso 2:\n",
            " 0: ──H────╭●──H─┤  \n",
            "1: ──H─╭●─╰X────┤  \n",
            "2: ────╰X───────┤  \n"
          ]
        }
      ]
    },
    {
      "cell_type": "code",
      "source": [
        "@qml.qnode(dev)\n",
        "def psi0(): prep();  return qml.state()\n",
        "@qml.qnode(dev)\n",
        "def psi1(): step1(); return qml.state()\n",
        "@qml.qnode(dev)\n",
        "def psi2(): step2(); return qml.state()"
      ],
      "metadata": {
        "id": "MN2l7nJqeSKZ"
      },
      "execution_count": 17,
      "outputs": []
    },
    {
      "cell_type": "code",
      "source": [
        "st0 = psi0(); print_sv(\"Estado |Psi_0>\", st0)\n",
        "st1 = psi1(); print_sv(\"Estado |Psi_1>\", st1)\n",
        "st2 = psi2(); print_sv(\"Estado |Psi_2>\", st2)"
      ],
      "metadata": {
        "colab": {
          "base_uri": "https://localhost:8080/"
        },
        "id": "BhDbCjOBeVvA",
        "outputId": "fbdf7e17-01fc-4ca5-c629-809209004749"
      },
      "execution_count": 18,
      "outputs": [
        {
          "output_type": "stream",
          "name": "stdout",
          "text": [
            "\n",
            "============================================================\n",
            "Estado |Psi_0> (base |q0 q1 q2>)\n",
            "============================================================\n",
            "|000> : +0.500000+0.000000j\n",
            "|011> : +0.500000+0.000000j\n",
            "|100> : +0.500000+0.000000j\n",
            "|111> : +0.500000+0.000000j\n",
            "\n",
            "============================================================\n",
            "Estado |Psi_1> (base |q0 q1 q2>)\n",
            "============================================================\n",
            "|000> : +0.500000+0.000000j\n",
            "|011> : +0.500000+0.000000j\n",
            "|101> : +0.500000+0.000000j\n",
            "|110> : +0.500000+0.000000j\n",
            "\n",
            "============================================================\n",
            "Estado |Psi_2> (base |q0 q1 q2>)\n",
            "============================================================\n",
            "|000> : +0.353553+0.000000j\n",
            "|001> : +0.353553+0.000000j\n",
            "|010> : +0.353553+0.000000j\n",
            "|011> : +0.353553+0.000000j\n",
            "|100> : +0.353553+0.000000j\n",
            "|101> : -0.353553+0.000000j\n",
            "|110> : -0.353553+0.000000j\n",
            "|111> : +0.353553+0.000000j\n"
          ]
        }
      ]
    },
    {
      "cell_type": "code",
      "source": [
        "# Post-selección (q0,q1)=01 => índice [0,1,:] porque wires=(q0,q1,q2)\n",
        "T = np.asarray(st2, dtype=complex).reshape(2,2,2)  # (q0,q1,q2)\n",
        "bob_unnorm = T[0, 1, :]\n",
        "p01 = float(np.vdot(bob_unnorm, bob_unnorm).real)\n",
        "bob_pre = bob_unnorm / np.sqrt(p01)\n",
        "X = np.array([[0,1],[1,0]], dtype=complex)\n",
        "bob_post = X @ bob_pre"
      ],
      "metadata": {
        "id": "Jbt1iepreV_d"
      },
      "execution_count": 19,
      "outputs": []
    },
    {
      "cell_type": "code",
      "source": [
        "print(\"\\n--- Post-selección (Alice=01) ---\")\n",
        "print(\"p(01) =\", p01)\n",
        "print(\"Bob PRE-corrección (vector):\", bob_pre)\n",
        "print(\"Bob POST-corrección (aplicando X):\", bob_post)"
      ],
      "metadata": {
        "colab": {
          "base_uri": "https://localhost:8080/"
        },
        "id": "R2c9gaCQeYJ4",
        "outputId": "69e0d5ba-af85-4ca5-aebe-a7e132a68068"
      },
      "execution_count": 20,
      "outputs": [
        {
          "output_type": "stream",
          "name": "stdout",
          "text": [
            "\n",
            "--- Post-selección (Alice=01) ---\n",
            "p(01) = 0.2499999999999999\n",
            "Bob PRE-corrección (vector): [0.70710678+0.j 0.70710678+0.j]\n",
            "Bob POST-corrección (aplicando X): [0.70710678+0.j 0.70710678+0.j]\n"
          ]
        }
      ]
    }
  ]
}